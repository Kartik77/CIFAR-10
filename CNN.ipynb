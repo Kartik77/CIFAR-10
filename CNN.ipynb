{
  "nbformat": 4,
  "nbformat_minor": 0,
  "metadata": {
    "colab": {
      "name": "CNN.ipynb",
      "provenance": [],
      "authorship_tag": "ABX9TyNeCz6zFzae20j9r0J5H6hh",
      "include_colab_link": true
    },
    "kernelspec": {
      "name": "python3",
      "display_name": "Python 3"
    }
  },
  "cells": [
    {
      "cell_type": "markdown",
      "metadata": {
        "id": "view-in-github",
        "colab_type": "text"
      },
      "source": [
        "<a href=\"https://colab.research.google.com/github/Kartik77/CIFAR-10/blob/master/CNN.ipynb\" target=\"_parent\"><img src=\"https://colab.research.google.com/assets/colab-badge.svg\" alt=\"Open In Colab\"/></a>"
      ]
    },
    {
      "cell_type": "code",
      "metadata": {
        "id": "YxdlxJcaaChE",
        "colab_type": "code",
        "colab": {}
      },
      "source": [
        "import torch\n",
        "import matplotlib.pyplot as plt\n",
        "import numpy as np"
      ],
      "execution_count": 0,
      "outputs": []
    },
    {
      "cell_type": "code",
      "metadata": {
        "id": "spi4VOgwaShr",
        "colab_type": "code",
        "outputId": "80dafe9d-c9e6-4d26-adb9-6fa8e8fd6b3d",
        "colab": {
          "base_uri": "https://localhost:8080/",
          "height": 34
        }
      },
      "source": [
        "import torchvision\n",
        "import torchvision.transforms as transforms\n",
        "trainset = torchvision.datasets.CIFAR10(root='./data', train = True, download = True, transform= transforms.ToTensor())"
      ],
      "execution_count": 0,
      "outputs": [
        {
          "output_type": "stream",
          "text": [
            "Files already downloaded and verified\n"
          ],
          "name": "stdout"
        }
      ]
    },
    {
      "cell_type": "code",
      "metadata": {
        "id": "O6e4eughax8e",
        "colab_type": "code",
        "colab": {}
      },
      "source": [
        "classes = ('plane', 'car', 'bird', 'cat', 'deer', 'dog', 'frog', 'horse', 'ship', 'truck')\n"
      ],
      "execution_count": 0,
      "outputs": []
    },
    {
      "cell_type": "code",
      "metadata": {
        "id": "FfMswVIbcbj0",
        "colab_type": "code",
        "colab": {}
      },
      "source": [
        "trainloader = torch.utils.data.DataLoader(trainset, batch_size=4, shuffle= True)"
      ],
      "execution_count": 0,
      "outputs": []
    },
    {
      "cell_type": "code",
      "metadata": {
        "id": "8cngDvdtcqiS",
        "colab_type": "code",
        "outputId": "e6cc01c5-53fb-49c7-91f1-7011776036d4",
        "colab": {
          "base_uri": "https://localhost:8080/",
          "height": 67
        }
      },
      "source": [
        "dataiter = iter(trainloader)\n",
        "images,labels= dataiter.next()\n",
        "\n",
        "print(images.shape)\n",
        "\n",
        "print(images[0].shape)\n",
        "print(labels[0].item())"
      ],
      "execution_count": 0,
      "outputs": [
        {
          "output_type": "stream",
          "text": [
            "torch.Size([4, 3, 32, 32])\n",
            "torch.Size([3, 32, 32])\n",
            "0\n"
          ],
          "name": "stdout"
        }
      ]
    },
    {
      "cell_type": "code",
      "metadata": {
        "id": "DWJGD7f9c-9k",
        "colab_type": "code",
        "outputId": "f154a3ef-5812-4fd5-9586-239cdfa9fbc0",
        "colab": {
          "base_uri": "https://localhost:8080/",
          "height": 34
        }
      },
      "source": [
        "img = images[1]\n",
        "print(type(img))"
      ],
      "execution_count": 0,
      "outputs": [
        {
          "output_type": "stream",
          "text": [
            "<class 'torch.Tensor'>\n"
          ],
          "name": "stdout"
        }
      ]
    },
    {
      "cell_type": "code",
      "metadata": {
        "id": "ANTHS4g-ddKa",
        "colab_type": "code",
        "outputId": "7d82778a-94c5-4467-dbd4-5d89e1f45d6c",
        "colab": {
          "base_uri": "https://localhost:8080/",
          "height": 34
        }
      },
      "source": [
        "npimg = img.numpy()\n",
        "print(npimg.shape)"
      ],
      "execution_count": 0,
      "outputs": [
        {
          "output_type": "stream",
          "text": [
            "(3, 32, 32)\n"
          ],
          "name": "stdout"
        }
      ]
    },
    {
      "cell_type": "code",
      "metadata": {
        "id": "jYwztTQhdpxq",
        "colab_type": "code",
        "outputId": "316082de-7fe2-4896-c8cc-71f77ecb5370",
        "colab": {
          "base_uri": "https://localhost:8080/",
          "height": 34
        }
      },
      "source": [
        "npimg = np.transpose(npimg, (1,2,0))\n",
        "print(npimg.shape)"
      ],
      "execution_count": 0,
      "outputs": [
        {
          "output_type": "stream",
          "text": [
            "(32, 32, 3)\n"
          ],
          "name": "stdout"
        }
      ]
    },
    {
      "cell_type": "code",
      "metadata": {
        "id": "dviVyGNXd0Hl",
        "colab_type": "code",
        "outputId": "817ebf58-7381-4df9-fafd-e6b7a7371c73",
        "colab": {
          "base_uri": "https://localhost:8080/",
          "height": 105
        }
      },
      "source": [
        "plt.figure(figsize = (1,1))\n",
        "plt.imshow(npimg)\n",
        "plt.show()"
      ],
      "execution_count": 0,
      "outputs": [
        {
          "output_type": "display_data",
          "data": {
            "image/png": "[encoded data removed]",
            "text/plain": [
              "<Figure size 72x72 with 1 Axes>"
            ]
          },
          "metadata": {
            "tags": [],
            "needs_background": "light"
          }
        }
      ]
    },
    {
      "cell_type": "code",
      "metadata": {
        "id": "9rMCJLe5eAcW",
        "colab_type": "code",
        "colab": {}
      },
      "source": [
        "def imshow(img):\n",
        "  npimg = img.numpy()\n",
        "  plt.imshow(np.transpose(npimg, (1,2,0)))"
      ],
      "execution_count": 0,
      "outputs": []
    },
    {
      "cell_type": "code",
      "metadata": {
        "id": "qi8gVSakfGc1",
        "colab_type": "code",
        "outputId": "44f2bf32-2f27-44ad-8a52-100a59295256",
        "colab": {
          "base_uri": "https://localhost:8080/",
          "height": 155
        }
      },
      "source": [
        "imshow(torchvision.utils.make_grid(images))\n",
        "print(' '.join(classes[labels[j]] for j in range(4)))"
      ],
      "execution_count": 0,
      "outputs": [
        {
          "output_type": "stream",
          "text": [
            "plane horse car frog\n"
          ],
          "name": "stdout"
        },
        {
          "output_type": "display_data",
          "data": {
            "image/png": "[encoded data removed]",
            "text/plain": [
              "<Figure size 432x288 with 1 Axes>"
            ]
          },
          "metadata": {
            "tags": [],
            "needs_background": "light"
          }
        }
      ]
    },
    {
      "cell_type": "code",
      "metadata": {
        "id": "-TYV4X2Gfd3P",
        "colab_type": "code",
        "colab": {}
      },
      "source": [
        "import torch.nn as nn\n",
        "\n",
        "\n",
        "class FirstCNN(nn.Module):\n",
        "  def __init__(self):\n",
        "    super(FirstCNN, self).__init__()\n",
        "    self.conv1 = nn.Conv2d(3, 16, 3) \n",
        "    \n",
        "\n",
        "  def forward(self, x):\n",
        "      x= self.conv1(x)\n",
        "      return x"
      ],
      "execution_count": 0,
      "outputs": []
    },
    {
      "cell_type": "code",
      "metadata": {
        "id": "M8PHQWfygigk",
        "colab_type": "code",
        "colab": {}
      },
      "source": [
        "net = FirstCNN()"
      ],
      "execution_count": 0,
      "outputs": []
    },
    {
      "cell_type": "code",
      "metadata": {
        "id": "mp3_VHNBgAY8",
        "colab_type": "code",
        "outputId": "c32e7e2a-3b58-4c26-d927-104e967f3a48",
        "colab": {
          "base_uri": "https://localhost:8080/",
          "height": 34
        }
      },
      "source": [
        "out = net(images)\n",
        "out.shape"
      ],
      "execution_count": 0,
      "outputs": [
        {
          "output_type": "execute_result",
          "data": {
            "text/plain": [
              "torch.Size([4, 16, 30, 30])"
            ]
          },
          "metadata": {
            "tags": []
          },
          "execution_count": 36
        }
      ]
    },
    {
      "cell_type": "code",
      "metadata": {
        "id": "PMAJJC-5g1Yx",
        "colab_type": "code",
        "outputId": "c7986ad8-7192-45d8-9213-621cb614ea58",
        "colab": {
          "base_uri": "https://localhost:8080/",
          "height": 50
        }
      },
      "source": [
        "for param in net.parameters():\n",
        "  print(param.shape)"
      ],
      "execution_count": 0,
      "outputs": [
        {
          "output_type": "stream",
          "text": [
            "torch.Size([16, 3, 3, 3])\n",
            "torch.Size([16])\n"
          ],
          "name": "stdout"
        }
      ]
    },
    {
      "cell_type": "code",
      "metadata": {
        "id": "DpXl5UgGgqXL",
        "colab_type": "code",
        "outputId": "040e22b2-2b21-4b2f-c103-bf7abf1fc231",
        "colab": {
          "base_uri": "https://localhost:8080/",
          "height": 34
        }
      },
      "source": [
        "out1 = out[0,0, :, :].detach().numpy()\n",
        "print(out1.shape)"
      ],
      "execution_count": 0,
      "outputs": [
        {
          "output_type": "stream",
          "text": [
            "(30, 30)\n"
          ],
          "name": "stdout"
        }
      ]
    },
    {
      "cell_type": "code",
      "metadata": {
        "id": "lAj4hwF_hbTF",
        "colab_type": "code",
        "outputId": "f82a44f4-bca4-4426-b350-154987e87bd6",
        "colab": {
          "base_uri": "https://localhost:8080/",
          "height": 266
        }
      },
      "source": [
        "plt.imshow(out[0,0, :, :].detach().numpy())\n",
        "plt.show()"
      ],
      "execution_count": 0,
      "outputs": [
        {
          "output_type": "display_data",
          "data": {
            "image/png": "[encoded data removed]",
            "text/plain": [
              "<Figure size 432x288 with 1 Axes>"
            ]
          },
          "metadata": {
            "tags": [],
            "needs_background": "light"
          }
        }
      ]
    },
    {
      "cell_type": "markdown",
      "metadata": {
        "id": "liUDmKO0TY9O",
        "colab_type": "text"
      },
      "source": [
        ""
      ]
    },
    {
      "cell_type": "markdown",
      "metadata": {
        "id": "eMmlA_0aOUdY",
        "colab_type": "text"
      },
      "source": [
        "#Deep CNN\n"
      ]
    },
    {
      "cell_type": "code",
      "metadata": {
        "id": "yDRikAS8OJuQ",
        "colab_type": "code",
        "colab": {}
      },
      "source": [
        "class FirstCNN_v2(nn.Module):\n",
        "  def __init__(self):\n",
        "    super(FirstCNN_v2, self).__init__()\n",
        "    self.model = nn.Sequential(\n",
        "        nn.Conv2d(3,8,3),\n",
        "        nn.Conv2d(8,16,3)\n",
        "    )\n",
        "\n",
        "  def forward(self,x):\n",
        "    x= self.model(x)\n",
        "    return x"
      ],
      "execution_count": 0,
      "outputs": []
    },
    {
      "cell_type": "code",
      "metadata": {
        "id": "V4X78MXdO1pC",
        "colab_type": "code",
        "outputId": "eace2611-b0f8-4e43-e811-fdb9a98f378f",
        "colab": {
          "base_uri": "https://localhost:8080/",
          "height": 34
        }
      },
      "source": [
        "net = FirstCNN_v2()\n",
        "out = net(images)\n",
        "out.shape"
      ],
      "execution_count": 0,
      "outputs": [
        {
          "output_type": "execute_result",
          "data": {
            "text/plain": [
              "torch.Size([4, 16, 28, 28])"
            ]
          },
          "metadata": {
            "tags": []
          },
          "execution_count": 44
        }
      ]
    },
    {
      "cell_type": "code",
      "metadata": {
        "id": "dXRrSw5BO7cI",
        "colab_type": "code",
        "outputId": "4f654597-61a5-40e3-c4bb-ead04f5a01a1",
        "colab": {
          "base_uri": "https://localhost:8080/",
          "height": 282
        }
      },
      "source": [
        "plt.imshow(out[0 ,0 ,:, :].detach().numpy())"
      ],
      "execution_count": 0,
      "outputs": [
        {
          "output_type": "execute_result",
          "data": {
            "text/plain": [
              "<matplotlib.image.AxesImage at 0x7f7f539be5f8>"
            ]
          },
          "metadata": {
            "tags": []
          },
          "execution_count": 45
        },
        {
          "output_type": "display_data",
          "data": {
            "image/png": "[encoded data removed]",
            "text/plain": [
              "<Figure size 432x288 with 1 Axes>"
            ]
          },
          "metadata": {
            "tags": [],
            "needs_background": "light"
          }
        }
      ]
    },
    {
      "cell_type": "code",
      "metadata": {
        "id": "HRQMpCbaPI8y",
        "colab_type": "code",
        "colab": {}
      },
      "source": [
        "class FirstCNN_v3(nn.Module):\n",
        "  def __init__(self):\n",
        "    super(FirstCNN_v3, self).__init__()\n",
        "    self.model = nn.Sequential(\n",
        "        nn.Conv2d(3,6,5),\n",
        "        nn.AvgPool2d(2,stride=2),\n",
        "        nn.Conv2d(6,16,5),\n",
        "        nn.AvgPool2d(2, stride=2)\n",
        "    )\n",
        "\n",
        "  def forward(self,x):\n",
        "    x= self.model(x)\n",
        "    return x"
      ],
      "execution_count": 0,
      "outputs": []
    },
    {
      "cell_type": "code",
      "metadata": {
        "id": "x7jr79AZQF_N",
        "colab_type": "code",
        "outputId": "fa1df6f7-07b2-4d5c-b625-2766d3cd295f",
        "colab": {
          "base_uri": "https://localhost:8080/",
          "height": 34
        }
      },
      "source": [
        "net = FirstCNN_v3()\n",
        "out = net(images)\n",
        "out.shape"
      ],
      "execution_count": 0,
      "outputs": [
        {
          "output_type": "execute_result",
          "data": {
            "text/plain": [
              "torch.Size([4, 16, 5, 5])"
            ]
          },
          "metadata": {
            "tags": []
          },
          "execution_count": 47
        }
      ]
    },
    {
      "cell_type": "code",
      "metadata": {
        "id": "oW2iYDWyQJk_",
        "colab_type": "code",
        "outputId": "bfe76bec-de54-4f69-a5aa-862f7ae3e538",
        "colab": {
          "base_uri": "https://localhost:8080/",
          "height": 282
        }
      },
      "source": [
        "plt.imshow(out[0 ,0 ,:, :].detach().numpy())"
      ],
      "execution_count": 0,
      "outputs": [
        {
          "output_type": "execute_result",
          "data": {
            "text/plain": [
              "<matplotlib.image.AxesImage at 0x7f7f5392a828>"
            ]
          },
          "metadata": {
            "tags": []
          },
          "execution_count": 48
        },
        {
          "output_type": "display_data",
          "data": {
            "image/png": "[encoded data removed]",
            "text/plain": [
              "<Figure size 432x288 with 1 Axes>"
            ]
          },
          "metadata": {
            "tags": [],
            "needs_background": "light"
          }
        }
      ]
    },
    {
      "cell_type": "code",
      "metadata": {
        "id": "28RvU4C9QMBi",
        "colab_type": "code",
        "colab": {}
      },
      "source": [
        "class LeNet(nn.Module):\n",
        "  def __init__(self):\n",
        "    super(LeNet, self).__init__()\n",
        "    self.cnn_model = nn.Sequential(\n",
        "        nn.Conv2d(3,6,5),\n",
        "        nn.ReLU(),\n",
        "        nn.AvgPool2d(2,stride=2),\n",
        "        nn.Conv2d(6,16,5),\n",
        "        nn.ReLU(),\n",
        "        nn.AvgPool2d(2, stride=2)\n",
        "    )\n",
        "    self.fc_model = nn.Sequential(\n",
        "        nn.Linear(400,120),\n",
        "        nn.ReLU(),\n",
        "        nn.Linear(120,84),\n",
        "        nn.ReLU(),\n",
        "        nn.Linear(84,10)\n",
        "    )\n",
        "  \n",
        "  def forward(self,x):\n",
        "    print(x.shape)\n",
        "    x = self.cnn_model(x)\n",
        "    print(x.shape)\n",
        "    x = x.view(x.size(0), -1)\n",
        "    print(x.shape)\n",
        "    x= self.fc_model(x)\n",
        "    print(x.shape)\n",
        "    return x"
      ],
      "execution_count": 0,
      "outputs": []
    },
    {
      "cell_type": "code",
      "metadata": {
        "id": "gw1Rkt3ASdla",
        "colab_type": "code",
        "outputId": "6c840968-7ecd-4dd9-f2ab-34366e4939bb",
        "colab": {
          "base_uri": "https://localhost:8080/",
          "height": 84
        }
      },
      "source": [
        "net = LeNet()\n",
        "out = net(images)"
      ],
      "execution_count": 0,
      "outputs": [
        {
          "output_type": "stream",
          "text": [
            "torch.Size([4, 3, 32, 32])\n",
            "torch.Size([4, 16, 5, 5])\n",
            "torch.Size([4, 400])\n",
            "torch.Size([4, 10])\n"
          ],
          "name": "stdout"
        }
      ]
    },
    {
      "cell_type": "code",
      "metadata": {
        "id": "cDzK2rXvSkRx",
        "colab_type": "code",
        "outputId": "bbf3e715-c904-4f1c-8842-56d737745a9a",
        "colab": {
          "base_uri": "https://localhost:8080/",
          "height": 151
        }
      },
      "source": [
        "print(out)"
      ],
      "execution_count": 0,
      "outputs": [
        {
          "output_type": "stream",
          "text": [
            "tensor([[-0.0703, -0.0195,  0.1154,  0.0718,  0.0101,  0.0923, -0.0707,  0.0116,\n",
            "         -0.0312,  0.0705],\n",
            "        [-0.0709, -0.0192,  0.1185,  0.0709,  0.0073,  0.0917, -0.0724,  0.0114,\n",
            "         -0.0283,  0.0692],\n",
            "        [-0.0693, -0.0158,  0.1172,  0.0738,  0.0053,  0.0909, -0.0717,  0.0134,\n",
            "         -0.0248,  0.0682],\n",
            "        [-0.0716, -0.0198,  0.1196,  0.0715,  0.0052,  0.0919, -0.0733,  0.0123,\n",
            "         -0.0307,  0.0684]], grad_fn=<AddmmBackward>)\n"
          ],
          "name": "stdout"
        }
      ]
    },
    {
      "cell_type": "code",
      "metadata": {
        "id": "6liujHWjSrp2",
        "colab_type": "code",
        "outputId": "0130b4fb-2db3-4598-ef27-2fc8740ee8c8",
        "colab": {
          "base_uri": "https://localhost:8080/",
          "height": 34
        }
      },
      "source": [
        "max_values, pred_class = torch.max(out.data, 1)\n",
        "print(pred_class)"
      ],
      "execution_count": 0,
      "outputs": [
        {
          "output_type": "stream",
          "text": [
            "tensor([2, 2, 2, 2])\n"
          ],
          "name": "stdout"
        }
      ]
    },
    {
      "cell_type": "markdown",
      "metadata": {
        "id": "sdBmZMsUUDis",
        "colab_type": "text"
      },
      "source": [
        "# Training LeNet\n"
      ]
    },
    {
      "cell_type": "code",
      "metadata": {
        "id": "2tNKNhMTSz96",
        "colab_type": "code",
        "colab": {}
      },
      "source": [
        "class LeNet(nn.Module):\n",
        "  def __init__(self):\n",
        "    super(LeNet, self).__init__()\n",
        "    self.cnn_model = nn.Sequential(\n",
        "        nn.Conv2d(3,6,5),\n",
        "        nn.ReLU(),\n",
        "        nn.AvgPool2d(2,stride=2),\n",
        "        nn.Conv2d(6,16,5),\n",
        "        nn.ReLU(),\n",
        "        nn.AvgPool2d(2, stride=2)\n",
        "    )\n",
        "    self.fc_model = nn.Sequential(\n",
        "        nn.Linear(400,120),\n",
        "        nn.ReLU(),\n",
        "        nn.Linear(120,84),\n",
        "        nn.ReLU(),\n",
        "        nn.Linear(84,10)\n",
        "    )\n",
        "  \n",
        "  def forward(self,x):\n",
        "    x = self.cnn_model(x)\n",
        "    x = x.view(x.size(0), -1)\n",
        "    x = self.fc_model(x)\n",
        "    return x"
      ],
      "execution_count": 0,
      "outputs": []
    },
    {
      "cell_type": "code",
      "metadata": {
        "id": "0t-BGVKQUYnh",
        "colab_type": "code",
        "outputId": "5502d8fc-fb18-4c34-a63a-597fd1d10322",
        "colab": {
          "base_uri": "https://localhost:8080/",
          "height": 50
        }
      },
      "source": [
        "batch_size = 128\n",
        "trainset = torchvision.datasets.CIFAR10(root='./data', train = True, download = True, transform= transforms.ToTensor())\n",
        "trainloader = torch.utils.data.DataLoader(trainset, batch_size=batch_size, shuffle= True)\n",
        "testset = torchvision.datasets.CIFAR10(root='./data', train = False, download = True, transform= transforms.ToTensor())\n",
        "testloader = torch.utils.data.DataLoader(testset, batch_size=batch_size, shuffle= True)"
      ],
      "execution_count": 0,
      "outputs": [
        {
          "output_type": "stream",
          "text": [
            "Files already downloaded and verified\n",
            "Files already downloaded and verified\n"
          ],
          "name": "stdout"
        }
      ]
    },
    {
      "cell_type": "code",
      "metadata": {
        "id": "RlmlDzJhU3Po",
        "colab_type": "code",
        "colab": {}
      },
      "source": [
        "def evaluation(dataloader):\n",
        "  total, correct = 0,0\n",
        "  for data in dataloader:\n",
        "    inputs, labels = data\n",
        "    outputs = net(inputs)\n",
        "    _ , pred = torch.max(outputs.data, 1)\n",
        "    total += labels.size(0)\n",
        "    correct += (pred == labels).sum().item()\n",
        "  return 100 * correct / total"
      ],
      "execution_count": 0,
      "outputs": []
    },
    {
      "cell_type": "code",
      "metadata": {
        "id": "fSllW8xWVnR9",
        "colab_type": "code",
        "colab": {}
      },
      "source": [
        "net = LeNet()"
      ],
      "execution_count": 0,
      "outputs": []
    },
    {
      "cell_type": "code",
      "metadata": {
        "id": "zXfcfh6bV3V7",
        "colab_type": "code",
        "colab": {}
      },
      "source": [
        "import torch.optim as optim\n",
        "\n",
        "loss_fn = nn.CrossEntropyLoss()\n",
        "opt = optim.Adam(net.parameters())"
      ],
      "execution_count": 0,
      "outputs": []
    },
    {
      "cell_type": "code",
      "metadata": {
        "id": "GXEJtm6XWWLH",
        "colab_type": "code",
        "outputId": "a9963a20-1b65-4ff2-be1e-98c3b48e4652",
        "colab": {
          "base_uri": "https://localhost:8080/",
          "height": 567
        }
      },
      "source": [
        "%%time\n",
        "loss_arr = []\n",
        "loss_epoch_arr = []\n",
        "max_epochs = 16\n",
        "\n",
        "for epoch in range(max_epochs):\n",
        "\n",
        "  for i,data in enumerate(trainloader,0):\n",
        "\n",
        "    inputs,labels = data\n",
        "    opt.zero_grad()\n",
        "\n",
        "    outputs = net(inputs)\n",
        "    loss = loss_fn(outputs, labels)\n",
        "    loss.backward()\n",
        "    opt.step()\n",
        "\n",
        "    loss_arr.append(loss.item())\n",
        "\n",
        "  loss_epoch_arr.append(loss.item())\n",
        "\n",
        "  print('Epoch: %d / %d, Test acc: %0.2f, Train acc: %0.2f' % (epoch, max_epochs, evaluation(testloader), evaluation(trainloader)))\n",
        "\n",
        "plt.plot(loss_epoch_arr)\n",
        "plt.show()"
      ],
      "execution_count": 0,
      "outputs": [
        {
          "output_type": "stream",
          "text": [
            "Epoch: 0 / 16, Test acc: 35.91, Train acc: 35.84\n",
            "Epoch: 1 / 16, Test acc: 43.93, Train acc: 44.35\n",
            "Epoch: 2 / 16, Test acc: 47.19, Train acc: 47.67\n",
            "Epoch: 3 / 16, Test acc: 48.55, Train acc: 48.92\n",
            "Epoch: 4 / 16, Test acc: 51.66, Train acc: 52.27\n",
            "Epoch: 5 / 16, Test acc: 51.42, Train acc: 52.47\n",
            "Epoch: 6 / 16, Test acc: 51.98, Train acc: 53.71\n",
            "Epoch: 7 / 16, Test acc: 54.90, Train acc: 56.39\n",
            "Epoch: 8 / 16, Test acc: 55.20, Train acc: 57.49\n",
            "Epoch: 9 / 16, Test acc: 56.82, Train acc: 58.71\n",
            "Epoch: 10 / 16, Test acc: 55.99, Train acc: 59.24\n",
            "Epoch: 11 / 16, Test acc: 57.19, Train acc: 60.60\n",
            "Epoch: 12 / 16, Test acc: 56.65, Train acc: 60.72\n",
            "Epoch: 13 / 16, Test acc: 57.98, Train acc: 62.33\n",
            "Epoch: 14 / 16, Test acc: 58.03, Train acc: 62.76\n",
            "Epoch: 15 / 16, Test acc: 58.18, Train acc: 63.34\n"
          ],
          "name": "stdout"
        },
        {
          "output_type": "display_data",
          "data": {
            "image/png": "[encoded data removed]",
            "text/plain": [
              "<Figure size 432x288 with 1 Axes>"
            ]
          },
          "metadata": {
            "tags": [],
            "needs_background": "light"
          }
        },
        {
          "output_type": "stream",
          "text": [
            "CPU times: user 7min 40s, sys: 5.93 s, total: 7min 46s\n",
            "Wall time: 7min 48s\n"
          ],
          "name": "stdout"
        }
      ]
    },
    {
      "cell_type": "code",
      "metadata": {
        "id": "okiM36aZXsFq",
        "colab_type": "code",
        "colab": {}
      },
      "source": [
        ""
      ],
      "execution_count": 0,
      "outputs": []
    }
  ]
}